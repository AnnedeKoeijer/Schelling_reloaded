{
 "cells": [
  {
   "cell_type": "markdown",
   "metadata": {},
   "source": [
    "# Schelling Segregation Model\n",
    "\n",
    "## Implementation\n",
    "\n",
    " Below, we will import the model class, instantiate it, run it, and plot the time series of the number of happy agents."
   ]
  },
  {
   "cell_type": "code",
   "execution_count": 1,
   "metadata": {
    "collapsed": false,
    "ExecuteTime": {
     "end_time": "2023-09-14T12:51:19.179128900Z",
     "start_time": "2023-09-14T12:51:17.957965600Z"
    }
   },
   "outputs": [],
   "source": [
    "import matplotlib.pyplot as plt\n",
    "import mesa\n",
    "import pandas as pd\n",
    "%matplotlib inline\n",
    "\n",
    "from model3b import Schelling"
   ]
  },
  {
   "cell_type": "markdown",
   "metadata": {},
   "source": [
    "Now we instantiate a model instance: a 10x10 grid, with an 80% chance of an agent being placed in each cell, approximately 20% of agents set as minorities, and agents wanting at least 30% similar neighbors."
   ]
  },
  {
   "cell_type": "code",
   "execution_count": 2,
   "metadata": {
    "collapsed": false,
    "ExecuteTime": {
     "end_time": "2023-09-14T12:51:19.259823100Z",
     "start_time": "2023-09-14T12:51:19.179254900Z"
    }
   },
   "outputs": [
    {
     "name": "stdout",
     "output_type": "stream",
     "text": [
      "This is model 3b\n"
     ]
    }
   ],
   "source": [
    "model = Schelling(30, 30, 0.8, 0.3, 0.3, 0.5)"
   ]
  },
  {
   "cell_type": "markdown",
   "metadata": {},
   "source": [
    "We want to run the model until all the agents are happy with where they are. However, there's no guarentee that a given model instantiation will *ever* settle down. So let's run it for either 200 steps or until it stops on its own, whichever comes first:"
   ]
  },
  {
   "cell_type": "code",
   "execution_count": 3,
   "metadata": {
    "collapsed": false,
    "ExecuteTime": {
     "end_time": "2023-09-14T12:51:19.296633500Z",
     "start_time": "2023-09-14T12:51:19.221705500Z"
    }
   },
   "outputs": [
    {
     "name": "stdout",
     "output_type": "stream",
     "text": [
      "8\n"
     ]
    }
   ],
   "source": [
    "while model.running and model.schedule.steps < 200:\n",
    "    model.step()\n",
    "\n",
    "print(model.schedule.steps) # Show how many steps have actually run"
   ]
  },
  {
   "cell_type": "code",
   "execution_count": 4,
   "outputs": [
    {
     "name": "stdout",
     "output_type": "stream",
     "text": [
      "716\n"
     ]
    }
   ],
   "source": [
    "print(model.schedule.get_agent_count())"
   ],
   "metadata": {
    "collapsed": false,
    "ExecuteTime": {
     "end_time": "2023-09-14T12:51:19.324222800Z",
     "start_time": "2023-09-14T12:51:19.296633500Z"
    }
   }
  },
  {
   "cell_type": "code",
   "execution_count": 5,
   "outputs": [
    {
     "data": {
      "text/plain": "   happy  total_satisfaction_index  blue_satisfaction_index  \\\n0      0                  0.000000                 0.000000   \n1    605                  0.844972                 0.572727   \n2    654                  0.913408                 0.763636   \n3    688                  0.960894                 0.881818   \n4    703                  0.981844                 0.945455   \n5    708                  0.988827                 0.968182   \n6    710                  0.991620                 0.972727   \n7    711                  0.993017                 0.977273   \n8    711                  0.993017                 0.977273   \n\n   red_satisfaction_index  segregated_Agents  happiness reached  \n0                0.000000           0.074022              False  \n1                0.965726           0.178771              False  \n2                0.979839           0.296089              False  \n3                0.995968           0.372905              False  \n4                0.997984           0.392458              False  \n5                0.997984           0.406425              False  \n6                1.000000           0.407821              False  \n7                1.000000           0.407821              False  \n8                1.000000           0.407821              False  ",
      "text/html": "<div>\n<style scoped>\n    .dataframe tbody tr th:only-of-type {\n        vertical-align: middle;\n    }\n\n    .dataframe tbody tr th {\n        vertical-align: top;\n    }\n\n    .dataframe thead th {\n        text-align: right;\n    }\n</style>\n<table border=\"1\" class=\"dataframe\">\n  <thead>\n    <tr style=\"text-align: right;\">\n      <th></th>\n      <th>happy</th>\n      <th>total_satisfaction_index</th>\n      <th>blue_satisfaction_index</th>\n      <th>red_satisfaction_index</th>\n      <th>segregated_Agents</th>\n      <th>happiness reached</th>\n    </tr>\n  </thead>\n  <tbody>\n    <tr>\n      <th>0</th>\n      <td>0</td>\n      <td>0.000000</td>\n      <td>0.000000</td>\n      <td>0.000000</td>\n      <td>0.074022</td>\n      <td>False</td>\n    </tr>\n    <tr>\n      <th>1</th>\n      <td>605</td>\n      <td>0.844972</td>\n      <td>0.572727</td>\n      <td>0.965726</td>\n      <td>0.178771</td>\n      <td>False</td>\n    </tr>\n    <tr>\n      <th>2</th>\n      <td>654</td>\n      <td>0.913408</td>\n      <td>0.763636</td>\n      <td>0.979839</td>\n      <td>0.296089</td>\n      <td>False</td>\n    </tr>\n    <tr>\n      <th>3</th>\n      <td>688</td>\n      <td>0.960894</td>\n      <td>0.881818</td>\n      <td>0.995968</td>\n      <td>0.372905</td>\n      <td>False</td>\n    </tr>\n    <tr>\n      <th>4</th>\n      <td>703</td>\n      <td>0.981844</td>\n      <td>0.945455</td>\n      <td>0.997984</td>\n      <td>0.392458</td>\n      <td>False</td>\n    </tr>\n    <tr>\n      <th>5</th>\n      <td>708</td>\n      <td>0.988827</td>\n      <td>0.968182</td>\n      <td>0.997984</td>\n      <td>0.406425</td>\n      <td>False</td>\n    </tr>\n    <tr>\n      <th>6</th>\n      <td>710</td>\n      <td>0.991620</td>\n      <td>0.972727</td>\n      <td>1.000000</td>\n      <td>0.407821</td>\n      <td>False</td>\n    </tr>\n    <tr>\n      <th>7</th>\n      <td>711</td>\n      <td>0.993017</td>\n      <td>0.977273</td>\n      <td>1.000000</td>\n      <td>0.407821</td>\n      <td>False</td>\n    </tr>\n    <tr>\n      <th>8</th>\n      <td>711</td>\n      <td>0.993017</td>\n      <td>0.977273</td>\n      <td>1.000000</td>\n      <td>0.407821</td>\n      <td>False</td>\n    </tr>\n  </tbody>\n</table>\n</div>"
     },
     "execution_count": 5,
     "metadata": {},
     "output_type": "execute_result"
    }
   ],
   "source": [
    "model_data = model.datacollector.get_model_vars_dataframe()\n",
    "model_data"
   ],
   "metadata": {
    "collapsed": false,
    "ExecuteTime": {
     "end_time": "2023-09-14T12:51:19.667851200Z",
     "start_time": "2023-09-14T12:51:19.640121100Z"
    }
   }
  },
  {
   "cell_type": "markdown",
   "metadata": {},
   "source": [
    "The model has a DataCollector object, which checks and stores how many agents are happy at the end of each step. It can also generate a pandas DataFrame of the data it has collected:"
   ]
  },
  {
   "cell_type": "code",
   "execution_count": 6,
   "metadata": {
    "collapsed": false,
    "ExecuteTime": {
     "end_time": "2023-09-14T06:42:55.965888900Z",
     "start_time": "2023-09-14T06:42:55.868927200Z"
    }
   },
   "outputs": [],
   "source": [
    "model_out = model.datacollector.get_model_vars_dataframe()"
   ]
  },
  {
   "cell_type": "code",
   "execution_count": 7,
   "metadata": {
    "collapsed": false,
    "ExecuteTime": {
     "end_time": "2023-09-14T06:42:56.006682100Z",
     "start_time": "2023-09-14T06:42:55.886528Z"
    }
   },
   "outputs": [
    {
     "data": {
      "text/plain": "   happy  total_satisfaction_index  blue_satisfaction_index  \\\n6    718                  1.000000                 1.000000   \n5    717                  0.998607                 0.995745   \n4    715                  0.995822                 0.991489   \n3    707                  0.984680                 0.978723   \n2    685                  0.954039                 0.885106   \n1    592                  0.824513                 0.574468   \n0      0                  0.000000                 0.000000   \n\n   red_satisfaction_index  segregated_Agents  happiness reached  time  \n6                1.000000           0.371866               True     6  \n5                1.000000           0.371866              False     5  \n4                0.997930           0.370474              False     4  \n3                0.987578           0.360724              False     3  \n2                0.987578           0.330084              False     2  \n1                0.946170           0.225627              False     1  \n0                0.000000           0.052925              False     0  ",
      "text/html": "<div>\n<style scoped>\n    .dataframe tbody tr th:only-of-type {\n        vertical-align: middle;\n    }\n\n    .dataframe tbody tr th {\n        vertical-align: top;\n    }\n\n    .dataframe thead th {\n        text-align: right;\n    }\n</style>\n<table border=\"1\" class=\"dataframe\">\n  <thead>\n    <tr style=\"text-align: right;\">\n      <th></th>\n      <th>happy</th>\n      <th>total_satisfaction_index</th>\n      <th>blue_satisfaction_index</th>\n      <th>red_satisfaction_index</th>\n      <th>segregated_Agents</th>\n      <th>happiness reached</th>\n      <th>time</th>\n    </tr>\n  </thead>\n  <tbody>\n    <tr>\n      <th>6</th>\n      <td>718</td>\n      <td>1.000000</td>\n      <td>1.000000</td>\n      <td>1.000000</td>\n      <td>0.371866</td>\n      <td>True</td>\n      <td>6</td>\n    </tr>\n    <tr>\n      <th>5</th>\n      <td>717</td>\n      <td>0.998607</td>\n      <td>0.995745</td>\n      <td>1.000000</td>\n      <td>0.371866</td>\n      <td>False</td>\n      <td>5</td>\n    </tr>\n    <tr>\n      <th>4</th>\n      <td>715</td>\n      <td>0.995822</td>\n      <td>0.991489</td>\n      <td>0.997930</td>\n      <td>0.370474</td>\n      <td>False</td>\n      <td>4</td>\n    </tr>\n    <tr>\n      <th>3</th>\n      <td>707</td>\n      <td>0.984680</td>\n      <td>0.978723</td>\n      <td>0.987578</td>\n      <td>0.360724</td>\n      <td>False</td>\n      <td>3</td>\n    </tr>\n    <tr>\n      <th>2</th>\n      <td>685</td>\n      <td>0.954039</td>\n      <td>0.885106</td>\n      <td>0.987578</td>\n      <td>0.330084</td>\n      <td>False</td>\n      <td>2</td>\n    </tr>\n    <tr>\n      <th>1</th>\n      <td>592</td>\n      <td>0.824513</td>\n      <td>0.574468</td>\n      <td>0.946170</td>\n      <td>0.225627</td>\n      <td>False</td>\n      <td>1</td>\n    </tr>\n    <tr>\n      <th>0</th>\n      <td>0</td>\n      <td>0.000000</td>\n      <td>0.000000</td>\n      <td>0.000000</td>\n      <td>0.052925</td>\n      <td>False</td>\n      <td>0</td>\n    </tr>\n  </tbody>\n</table>\n</div>"
     },
     "execution_count": 7,
     "metadata": {},
     "output_type": "execute_result"
    }
   ],
   "source": [
    "model_out.sort_values('happy', ascending=False)"
   ]
  },
  {
   "cell_type": "markdown",
   "metadata": {},
   "source": [
    "Finally, we can plot the 'happy' series:"
   ]
  },
  {
   "cell_type": "code",
   "execution_count": 8,
   "metadata": {
    "collapsed": false,
    "ExecuteTime": {
     "end_time": "2023-09-14T06:42:56.581167600Z",
     "start_time": "2023-09-14T06:42:55.914801800Z"
    }
   },
   "outputs": [
    {
     "data": {
      "text/plain": "<Axes: >"
     },
     "execution_count": 8,
     "metadata": {},
     "output_type": "execute_result"
    },
    {
     "data": {
      "text/plain": "<Figure size 640x480 with 1 Axes>",
      "image/png": "[encoded data removed]"
     },
     "metadata": {},
     "output_type": "display_data"
    }
   ],
   "source": [
    "model_out.happy.plot()"
   ]
  },
  {
   "cell_type": "markdown",
   "metadata": {},
   "source": [
    "# Batchrunner: Effect of Homophily on segregation\n",
    "\n",
    "Now, we can do a parameter sweep to see how segregation changes with homophily."
   ]
  },
  {
   "cell_type": "markdown",
   "metadata": {},
   "source": [
    "Now, we set up the batch run, with a dictionary of fixed and changing parameters. Let's hold everything fixed except for Homophily."
   ]
  },
  {
   "cell_type": "code",
   "execution_count": 6,
   "metadata": {
    "collapsed": true,
    "ExecuteTime": {
     "end_time": "2023-09-14T12:51:35.883133Z",
     "start_time": "2023-09-14T12:51:35.876139Z"
    }
   },
   "outputs": [],
   "source": [
    "import numpy as np\n",
    "parameters = {\"height\": 10, \"width\": 10, \"density\": 0.8, \"minority_pc\": 0.2,\n",
    "              \"homophily\": np.arange(0.0, 1.0, 0.1), \"socioeconomic_homophily_blues\" : 0.4}"
   ]
  },
  {
   "cell_type": "code",
   "execution_count": 7,
   "metadata": {
    "collapsed": true,
    "ExecuteTime": {
     "end_time": "2023-09-14T12:51:38.026106800Z",
     "start_time": "2023-09-14T12:51:36.087065900Z"
    }
   },
   "outputs": [
    {
     "name": "stderr",
     "output_type": "stream",
     "text": [
      " 10%|█         | 10/100 [00:00<00:01, 63.46it/s]"
     ]
    },
    {
     "name": "stdout",
     "output_type": "stream",
     "text": [
      "This is model 3b\n",
      "This is model 3b\n",
      "This is model 3b\n",
      "This is model 3b\n",
      "This is model 3b\n",
      "This is model 3b\n",
      "This is model 3b\n",
      "This is model 3b\n",
      "This is model 3b\n",
      "This is model 3b\n",
      "This is model 3b\n",
      "This is model 3b\n",
      "This is model 3b\n",
      "This is model 3b\n",
      "This is model 3b\n",
      "This is model 3b\n",
      "This is model 3b\n",
      "This is model 3b\n",
      "This is model 3b\n"
     ]
    },
    {
     "name": "stderr",
     "output_type": "stream",
     "text": [
      " 27%|██▋       | 27/100 [00:00<00:01, 70.86it/s]"
     ]
    },
    {
     "name": "stdout",
     "output_type": "stream",
     "text": [
      "This is model 3b\n",
      "This is model 3b\n",
      "This is model 3b\n",
      "This is model 3b\n",
      "This is model 3b\n",
      "This is model 3b\n",
      "This is model 3b\n",
      "This is model 3b\n",
      "This is model 3b\n",
      "This is model 3b\n",
      "This is model 3b\n"
     ]
    },
    {
     "name": "stderr",
     "output_type": "stream",
     "text": [
      " 35%|███▌      | 35/100 [00:00<00:00, 66.36it/s]"
     ]
    },
    {
     "name": "stdout",
     "output_type": "stream",
     "text": [
      "This is model 3b\n",
      "This is model 3b\n",
      "This is model 3b\n",
      "This is model 3b\n",
      "This is model 3b\n",
      "This is model 3b\n",
      "This is model 3b\n",
      "This is model 3b\n",
      "This is model 3b\n",
      "This is model 3b\n",
      "This is model 3b\n",
      "This is model 3b\n"
     ]
    },
    {
     "name": "stderr",
     "output_type": "stream",
     "text": [
      " 55%|█████▌    | 55/100 [00:00<00:00, 53.48it/s]"
     ]
    },
    {
     "name": "stdout",
     "output_type": "stream",
     "text": [
      "This is model 3b\n",
      "This is model 3b\n",
      "This is model 3b\n",
      "This is model 3b\n",
      "This is model 3b\n",
      "This is model 3b\n",
      "This is model 3b\n",
      "This is model 3b\n",
      "This is model 3b\n",
      "This is model 3b\n",
      "This is model 3b\n",
      "This is model 3b\n",
      "This is model 3b\n"
     ]
    },
    {
     "name": "stderr",
     "output_type": "stream",
     "text": [
      " 61%|██████    | 61/100 [00:01<00:00, 45.67it/s]"
     ]
    },
    {
     "name": "stdout",
     "output_type": "stream",
     "text": [
      "This is model 3b\n",
      "This is model 3b\n",
      "This is model 3b\n",
      "This is model 3b\n",
      "This is model 3b\n",
      "This is model 3b\n",
      "This is model 3b\n",
      "This is model 3b\n",
      "This is model 3b\n",
      "This is model 3b\n",
      "This is model 3b\n",
      "This is model 3b\n",
      "This is model 3b\n",
      "This is model 3b\n"
     ]
    },
    {
     "name": "stderr",
     "output_type": "stream",
     "text": [
      " 75%|███████▌  | 75/100 [00:01<00:00, 53.36it/s]"
     ]
    },
    {
     "name": "stdout",
     "output_type": "stream",
     "text": [
      "This is model 3b\n",
      "This is model 3b\n",
      "This is model 3b\n",
      "This is model 3b\n",
      "This is model 3b\n",
      "This is model 3b\n",
      "This is model 3b\n",
      "This is model 3b\n",
      "This is model 3b\n",
      "This is model 3b\n",
      "This is model 3b\n"
     ]
    },
    {
     "name": "stderr",
     "output_type": "stream",
     "text": [
      " 90%|█████████ | 90/100 [00:01<00:00, 49.69it/s]"
     ]
    },
    {
     "name": "stdout",
     "output_type": "stream",
     "text": [
      "This is model 3b\n",
      "This is model 3b\n",
      "This is model 3b\n",
      "This is model 3b\n",
      "This is model 3b\n",
      "This is model 3b\n",
      "This is model 3b\n",
      "This is model 3b\n",
      "This is model 3b\n",
      "This is model 3b\n",
      "This is model 3b\n",
      "This is model 3b\n",
      "This is model 3b\n",
      "This is model 3b\n",
      "This is model 3b\n",
      "This is model 3b\n",
      "This is model 3b\n",
      "This is model 3b\n",
      "This is model 3b\n"
     ]
    },
    {
     "name": "stderr",
     "output_type": "stream",
     "text": [
      "100%|██████████| 100/100 [00:01<00:00, 52.17it/s]"
     ]
    },
    {
     "name": "stdout",
     "output_type": "stream",
     "text": [
      "This is model 3b\n"
     ]
    },
    {
     "name": "stderr",
     "output_type": "stream",
     "text": [
      "\n"
     ]
    }
   ],
   "source": [
    "from mesa import batch_run\n",
    "param_sweep = batch_run(Schelling,parameters, iterations=10, max_steps=100)"
   ]
  },
  {
   "cell_type": "code",
   "execution_count": 8,
   "outputs": [],
   "source": [
    "import pandas as pd\n",
    "df = pd.DataFrame.from_dict(param_sweep)"
   ],
   "metadata": {
    "collapsed": false,
    "ExecuteTime": {
     "end_time": "2023-09-14T12:51:39.121450700Z",
     "start_time": "2023-09-14T12:51:39.069687500Z"
    }
   }
  },
  {
   "cell_type": "code",
   "execution_count": 9,
   "outputs": [
    {
     "data": {
      "text/plain": "    RunId  iteration  Step  height  width  density  minority_pc  homophily  \\\n0       0          0     1      10     10      0.8          0.2        0.0   \n1       1          0     3      10     10      0.8          0.2        0.1   \n2       2          0     3      10     10      0.8          0.2        0.2   \n3       3          0     1      10     10      0.8          0.2        0.3   \n4       4          0     3      10     10      0.8          0.2        0.4   \n..    ...        ...   ...     ...    ...      ...          ...        ...   \n95     95          9     6      10     10      0.8          0.2        0.5   \n96     96          9     8      10     10      0.8          0.2        0.6   \n97     97          9    10      10     10      0.8          0.2        0.7   \n98     98          9   100      10     10      0.8          0.2        0.8   \n99     99          9   100      10     10      0.8          0.2        0.9   \n\n    socioeconomic_homophily_blues  happy  total_satisfaction_index  \\\n0                             0.4     80                  1.000000   \n1                             0.4     80                  0.987654   \n2                             0.4     75                  1.000000   \n3                             0.4     73                  0.890244   \n4                             0.4     69                  0.907895   \n..                            ...    ...                       ...   \n95                            0.4     81                  0.975904   \n96                            0.4     75                  1.000000   \n97                            0.4     72                  0.923077   \n98                            0.4     60                  0.759494   \n99                            0.4     67                  0.858974   \n\n    blue_satisfaction_index  red_satisfaction_index  segregated_Agents  \\\n0                  1.000000                1.000000           0.212500   \n1                  0.928571                1.000000           0.333333   \n2                  1.000000                1.000000           0.680000   \n3                  0.181818                1.000000           0.365854   \n4                  0.500000                1.000000           0.315789   \n..                      ...                     ...                ...   \n95                 0.875000                1.000000           0.554217   \n96                 1.000000                1.000000           0.840000   \n97                 0.571429                1.000000           0.564103   \n98                 0.076923                0.893939           0.379747   \n99                 0.562500                0.935484           0.833333   \n\n    happiness reached  \n0                True  \n1               False  \n2                True  \n3               False  \n4               False  \n..                ...  \n95              False  \n96               True  \n97              False  \n98              False  \n99              False  \n\n[100 rows x 15 columns]",
      "text/html": "<div>\n<style scoped>\n    .dataframe tbody tr th:only-of-type {\n        vertical-align: middle;\n    }\n\n    .dataframe tbody tr th {\n        vertical-align: top;\n    }\n\n    .dataframe thead th {\n        text-align: right;\n    }\n</style>\n<table border=\"1\" class=\"dataframe\">\n  <thead>\n    <tr style=\"text-align: right;\">\n      <th></th>\n      <th>RunId</th>\n      <th>iteration</th>\n      <th>Step</th>\n      <th>height</th>\n      <th>width</th>\n      <th>density</th>\n      <th>minority_pc</th>\n      <th>homophily</th>\n      <th>socioeconomic_homophily_blues</th>\n      <th>happy</th>\n      <th>total_satisfaction_index</th>\n      <th>blue_satisfaction_index</th>\n      <th>red_satisfaction_index</th>\n      <th>segregated_Agents</th>\n      <th>happiness reached</th>\n    </tr>\n  </thead>\n  <tbody>\n    <tr>\n      <th>0</th>\n      <td>0</td>\n      <td>0</td>\n      <td>1</td>\n      <td>10</td>\n      <td>10</td>\n      <td>0.8</td>\n      <td>0.2</td>\n      <td>0.0</td>\n      <td>0.4</td>\n      <td>80</td>\n      <td>1.000000</td>\n      <td>1.000000</td>\n      <td>1.000000</td>\n      <td>0.212500</td>\n      <td>True</td>\n    </tr>\n    <tr>\n      <th>1</th>\n      <td>1</td>\n      <td>0</td>\n      <td>3</td>\n      <td>10</td>\n      <td>10</td>\n      <td>0.8</td>\n      <td>0.2</td>\n      <td>0.1</td>\n      <td>0.4</td>\n      <td>80</td>\n      <td>0.987654</td>\n      <td>0.928571</td>\n      <td>1.000000</td>\n      <td>0.333333</td>\n      <td>False</td>\n    </tr>\n    <tr>\n      <th>2</th>\n      <td>2</td>\n      <td>0</td>\n      <td>3</td>\n      <td>10</td>\n      <td>10</td>\n      <td>0.8</td>\n      <td>0.2</td>\n      <td>0.2</td>\n      <td>0.4</td>\n      <td>75</td>\n      <td>1.000000</td>\n      <td>1.000000</td>\n      <td>1.000000</td>\n      <td>0.680000</td>\n      <td>True</td>\n    </tr>\n    <tr>\n      <th>3</th>\n      <td>3</td>\n      <td>0</td>\n      <td>1</td>\n      <td>10</td>\n      <td>10</td>\n      <td>0.8</td>\n      <td>0.2</td>\n      <td>0.3</td>\n      <td>0.4</td>\n      <td>73</td>\n      <td>0.890244</td>\n      <td>0.181818</td>\n      <td>1.000000</td>\n      <td>0.365854</td>\n      <td>False</td>\n    </tr>\n    <tr>\n      <th>4</th>\n      <td>4</td>\n      <td>0</td>\n      <td>3</td>\n      <td>10</td>\n      <td>10</td>\n      <td>0.8</td>\n      <td>0.2</td>\n      <td>0.4</td>\n      <td>0.4</td>\n      <td>69</td>\n      <td>0.907895</td>\n      <td>0.500000</td>\n      <td>1.000000</td>\n      <td>0.315789</td>\n      <td>False</td>\n    </tr>\n    <tr>\n      <th>...</th>\n      <td>...</td>\n      <td>...</td>\n      <td>...</td>\n      <td>...</td>\n      <td>...</td>\n      <td>...</td>\n      <td>...</td>\n      <td>...</td>\n      <td>...</td>\n      <td>...</td>\n      <td>...</td>\n      <td>...</td>\n      <td>...</td>\n      <td>...</td>\n      <td>...</td>\n    </tr>\n    <tr>\n      <th>95</th>\n      <td>95</td>\n      <td>9</td>\n      <td>6</td>\n      <td>10</td>\n      <td>10</td>\n      <td>0.8</td>\n      <td>0.2</td>\n      <td>0.5</td>\n      <td>0.4</td>\n      <td>81</td>\n      <td>0.975904</td>\n      <td>0.875000</td>\n      <td>1.000000</td>\n      <td>0.554217</td>\n      <td>False</td>\n    </tr>\n    <tr>\n      <th>96</th>\n      <td>96</td>\n      <td>9</td>\n      <td>8</td>\n      <td>10</td>\n      <td>10</td>\n      <td>0.8</td>\n      <td>0.2</td>\n      <td>0.6</td>\n      <td>0.4</td>\n      <td>75</td>\n      <td>1.000000</td>\n      <td>1.000000</td>\n      <td>1.000000</td>\n      <td>0.840000</td>\n      <td>True</td>\n    </tr>\n    <tr>\n      <th>97</th>\n      <td>97</td>\n      <td>9</td>\n      <td>10</td>\n      <td>10</td>\n      <td>10</td>\n      <td>0.8</td>\n      <td>0.2</td>\n      <td>0.7</td>\n      <td>0.4</td>\n      <td>72</td>\n      <td>0.923077</td>\n      <td>0.571429</td>\n      <td>1.000000</td>\n      <td>0.564103</td>\n      <td>False</td>\n    </tr>\n    <tr>\n      <th>98</th>\n      <td>98</td>\n      <td>9</td>\n      <td>100</td>\n      <td>10</td>\n      <td>10</td>\n      <td>0.8</td>\n      <td>0.2</td>\n      <td>0.8</td>\n      <td>0.4</td>\n      <td>60</td>\n      <td>0.759494</td>\n      <td>0.076923</td>\n      <td>0.893939</td>\n      <td>0.379747</td>\n      <td>False</td>\n    </tr>\n    <tr>\n      <th>99</th>\n      <td>99</td>\n      <td>9</td>\n      <td>100</td>\n      <td>10</td>\n      <td>10</td>\n      <td>0.8</td>\n      <td>0.2</td>\n      <td>0.9</td>\n      <td>0.4</td>\n      <td>67</td>\n      <td>0.858974</td>\n      <td>0.562500</td>\n      <td>0.935484</td>\n      <td>0.833333</td>\n      <td>False</td>\n    </tr>\n  </tbody>\n</table>\n<p>100 rows × 15 columns</p>\n</div>"
     },
     "execution_count": 9,
     "metadata": {},
     "output_type": "execute_result"
    }
   ],
   "source": [
    "df"
   ],
   "metadata": {
    "collapsed": false,
    "ExecuteTime": {
     "end_time": "2023-09-14T12:51:40.336803900Z",
     "start_time": "2023-09-14T12:51:40.314122900Z"
    }
   }
  },
  {
   "cell_type": "code",
   "execution_count": 10,
   "metadata": {
    "collapsed": false,
    "ExecuteTime": {
     "end_time": "2023-09-14T12:51:51.754350700Z",
     "start_time": "2023-09-14T12:51:51.608008100Z"
    }
   },
   "outputs": [
    {
     "data": {
      "text/plain": "<Figure size 640x480 with 1 Axes>",
      "image/png": "[encoded data removed]"
     },
     "metadata": {},
     "output_type": "display_data"
    }
   ],
   "source": [
    "plt.scatter(df.homophily, df.segregated_Agents)\n",
    "plt.xlabel('Homophily')\n",
    "plt.ylabel('Prc Segregation')\n",
    "plt.grid(True)"
   ]
  },
  {
   "cell_type": "code",
   "execution_count": 27,
   "outputs": [
    {
     "data": {
      "text/plain": "<Figure size 640x480 with 1 Axes>",
      "image/png": "[encoded data removed]"
     },
     "metadata": {},
     "output_type": "display_data"
    }
   ],
   "source": [
    "plt.scatter(df[df['happiness reached'] == True].homophily, df[df['happiness reached'] == True].Step, color = 'green')\n",
    "plt.scatter(df[df['happiness reached'] == False].homophily, df[df['happiness reached'] == False].Step, color = 'red')\n",
    "plt.xlabel('Homophily')\n",
    "plt.ylabel('Timesteps')\n",
    "plt.legend([\"Full happiness reached\", \"Not reached\"])\n",
    "plt.grid(True)\n",
    "plt.show()"
   ],
   "metadata": {
    "collapsed": false,
    "ExecuteTime": {
     "end_time": "2023-09-14T13:10:38.264400100Z",
     "start_time": "2023-09-14T13:10:38.092758400Z"
    }
   }
  },
  {
   "cell_type": "code",
   "execution_count": null,
   "outputs": [],
   "source": [],
   "metadata": {
    "collapsed": false
   }
  }
 ],
 "metadata": {
  "kernelspec": {
   "display_name": "Python 3",
   "language": "python",
   "name": "python3"
  },
  "language_info": {
   "codemirror_mode": {
    "name": "ipython",
    "version": 3
   },
   "file_extension": ".py",
   "mimetype": "text/x-python",
   "name": "python",
   "nbconvert_exporter": "python",
   "pygments_lexer": "ipython3",
   "version": "3.5.1"
  }
 },
 "nbformat": 4,
 "nbformat_minor": 0
}
