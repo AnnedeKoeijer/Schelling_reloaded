{
 "cells": [
  {
   "cell_type": "markdown",
   "metadata": {},
   "source": [
    "# Schelling Segregation Model\n",
    "\n",
    "## Implementation\n",
    "\n",
    " Below, we will import the model class, instantiate it, run it, and plot the time series of the number of happy agents."
   ]
  },
  {
   "cell_type": "code",
   "execution_count": 1,
   "metadata": {
    "collapsed": false,
    "ExecuteTime": {
     "end_time": "2023-09-06T19:16:23.665978200Z",
     "start_time": "2023-09-06T19:16:19.853860900Z"
    }
   },
   "outputs": [],
   "source": [
    "import matplotlib.pyplot as plt\n",
    "%matplotlib inline\n",
    "\n",
    "from model1 import Schelling"
   ]
  },
  {
   "cell_type": "markdown",
   "metadata": {},
   "source": [
    "Now we instantiate a model instance: a 10x10 grid, with an 80% chance of an agent being placed in each cell, approximately 20% of agents set as minorities, and agents wanting at least 30% similar neighbors."
   ]
  },
  {
   "cell_type": "code",
   "execution_count": 27,
   "metadata": {
    "collapsed": false,
    "ExecuteTime": {
     "end_time": "2023-09-06T19:24:37.007256800Z",
     "start_time": "2023-09-06T19:24:36.978535900Z"
    }
   },
   "outputs": [
    {
     "name": "stdout",
     "output_type": "stream",
     "text": [
      "This is model 1\n"
     ]
    }
   ],
   "source": [
    "model = Schelling(30, 30, 0.8, 0.2, 0.3)"
   ]
  },
  {
   "cell_type": "markdown",
   "metadata": {},
   "source": [
    "We want to run the model until all the agents are happy with where they are. However, there's no guarentee that a given model instantiation will *ever* settle down. So let's run it for either 100 steps or until it stops on its own, whichever comes first:"
   ]
  },
  {
   "cell_type": "code",
   "execution_count": 28,
   "metadata": {
    "collapsed": false,
    "ExecuteTime": {
     "end_time": "2023-09-06T19:24:38.760574300Z",
     "start_time": "2023-09-06T19:24:38.323175300Z"
    }
   },
   "outputs": [
    {
     "name": "stdout",
     "output_type": "stream",
     "text": [
      "86\n"
     ]
    }
   ],
   "source": [
    "while model.running and model.schedule.steps < 200:\n",
    "    model.step()\n",
    "\n",
    "print(model.schedule.steps) # Show how many steps have actually run"
   ]
  },
  {
   "cell_type": "code",
   "execution_count": 29,
   "outputs": [
    {
     "name": "stdout",
     "output_type": "stream",
     "text": [
      "700\n"
     ]
    }
   ],
   "source": [
    "print(model.schedule.get_agent_count())"
   ],
   "metadata": {
    "collapsed": false,
    "ExecuteTime": {
     "end_time": "2023-09-06T19:24:40.503645700Z",
     "start_time": "2023-09-06T19:24:40.479351Z"
    }
   }
  },
  {
   "cell_type": "markdown",
   "metadata": {},
   "source": [
    "The model has a DataCollector object, which checks and stores how many agents are happy at the end of each step. It can also generate a pandas DataFrame of the data it has collected:"
   ]
  },
  {
   "cell_type": "code",
   "execution_count": 30,
   "metadata": {
    "collapsed": false,
    "ExecuteTime": {
     "end_time": "2023-09-06T19:24:43.386386300Z",
     "start_time": "2023-09-06T19:24:43.364626700Z"
    }
   },
   "outputs": [],
   "source": [
    "model_out = model.datacollector.get_model_vars_dataframe()"
   ]
  },
  {
   "cell_type": "code",
   "execution_count": 31,
   "metadata": {
    "collapsed": false,
    "ExecuteTime": {
     "end_time": "2023-09-06T19:24:44.142906600Z",
     "start_time": "2023-09-06T19:24:44.104027600Z"
    }
   },
   "outputs": [
    {
     "data": {
      "text/plain": "    happy  total_satisfaction_index  blue_satisfaction_index  \\\n86    700                  0.998571                 0.993243   \n57    699                  0.998571                 0.993243   \n64    699                  0.998571                 0.993243   \n63    699                  0.998571                 0.993243   \n62    699                  0.998571                 0.993243   \n..    ...                       ...                      ...   \n4     648                  0.918571                 0.621622   \n3     643                  0.894286                 0.547297   \n2     626                  0.838571                 0.317568   \n1     587                  0.000000                 0.000000   \n0       0                  0.000000                 0.000000   \n\n    red_satisfaction_index  \n86                1.000000  \n57                1.000000  \n64                1.000000  \n63                1.000000  \n62                1.000000  \n..                     ...  \n4                 0.998188  \n3                 0.987319  \n2                 0.978261  \n1                 0.000000  \n0                 0.000000  \n\n[87 rows x 4 columns]",
      "text/html": "<div>\n<style scoped>\n    .dataframe tbody tr th:only-of-type {\n        vertical-align: middle;\n    }\n\n    .dataframe tbody tr th {\n        vertical-align: top;\n    }\n\n    .dataframe thead th {\n        text-align: right;\n    }\n</style>\n<table border=\"1\" class=\"dataframe\">\n  <thead>\n    <tr style=\"text-align: right;\">\n      <th></th>\n      <th>happy</th>\n      <th>total_satisfaction_index</th>\n      <th>blue_satisfaction_index</th>\n      <th>red_satisfaction_index</th>\n    </tr>\n  </thead>\n  <tbody>\n    <tr>\n      <th>86</th>\n      <td>700</td>\n      <td>0.998571</td>\n      <td>0.993243</td>\n      <td>1.000000</td>\n    </tr>\n    <tr>\n      <th>57</th>\n      <td>699</td>\n      <td>0.998571</td>\n      <td>0.993243</td>\n      <td>1.000000</td>\n    </tr>\n    <tr>\n      <th>64</th>\n      <td>699</td>\n      <td>0.998571</td>\n      <td>0.993243</td>\n      <td>1.000000</td>\n    </tr>\n    <tr>\n      <th>63</th>\n      <td>699</td>\n      <td>0.998571</td>\n      <td>0.993243</td>\n      <td>1.000000</td>\n    </tr>\n    <tr>\n      <th>62</th>\n      <td>699</td>\n      <td>0.998571</td>\n      <td>0.993243</td>\n      <td>1.000000</td>\n    </tr>\n    <tr>\n      <th>...</th>\n      <td>...</td>\n      <td>...</td>\n      <td>...</td>\n      <td>...</td>\n    </tr>\n    <tr>\n      <th>4</th>\n      <td>648</td>\n      <td>0.918571</td>\n      <td>0.621622</td>\n      <td>0.998188</td>\n    </tr>\n    <tr>\n      <th>3</th>\n      <td>643</td>\n      <td>0.894286</td>\n      <td>0.547297</td>\n      <td>0.987319</td>\n    </tr>\n    <tr>\n      <th>2</th>\n      <td>626</td>\n      <td>0.838571</td>\n      <td>0.317568</td>\n      <td>0.978261</td>\n    </tr>\n    <tr>\n      <th>1</th>\n      <td>587</td>\n      <td>0.000000</td>\n      <td>0.000000</td>\n      <td>0.000000</td>\n    </tr>\n    <tr>\n      <th>0</th>\n      <td>0</td>\n      <td>0.000000</td>\n      <td>0.000000</td>\n      <td>0.000000</td>\n    </tr>\n  </tbody>\n</table>\n<p>87 rows × 4 columns</p>\n</div>"
     },
     "execution_count": 31,
     "metadata": {},
     "output_type": "execute_result"
    }
   ],
   "source": [
    "model_out.sort_values('happy', ascending=False)"
   ]
  },
  {
   "cell_type": "markdown",
   "metadata": {},
   "source": [
    "Finally, we can plot the 'happy' series:"
   ]
  },
  {
   "cell_type": "code",
   "execution_count": 32,
   "metadata": {
    "collapsed": false,
    "ExecuteTime": {
     "end_time": "2023-09-06T19:24:46.519303900Z",
     "start_time": "2023-09-06T19:24:46.325142400Z"
    }
   },
   "outputs": [
    {
     "data": {
      "text/plain": "<Axes: >"
     },
     "execution_count": 32,
     "metadata": {},
     "output_type": "execute_result"
    },
    {
     "data": {
      "text/plain": "<Figure size 640x480 with 1 Axes>",
      "image/png": "[encoded data removed]"
     },
     "metadata": {},
     "output_type": "display_data"
    }
   ],
   "source": [
    "model_out.happy.plot()"
   ]
  },
  {
   "cell_type": "markdown",
   "metadata": {},
   "source": [
    "For testing purposes, here is a table giving each agent's x and y values at each step."
   ]
  },
  {
   "cell_type": "code",
   "execution_count": 33,
   "metadata": {
    "collapsed": false,
    "ExecuteTime": {
     "end_time": "2023-09-06T19:24:54.695025800Z",
     "start_time": "2023-09-06T19:24:54.570032600Z"
    }
   },
   "outputs": [],
   "source": [
    "x_positions = model.datacollector.get_agent_vars_dataframe()"
   ]
  },
  {
   "cell_type": "code",
   "execution_count": 34,
   "metadata": {
    "collapsed": false,
    "ExecuteTime": {
     "end_time": "2023-09-06T19:24:55.375159100Z",
     "start_time": "2023-09-06T19:24:55.358659Z"
    }
   },
   "outputs": [
    {
     "data": {
      "text/plain": "              x  y\nStep AgentID      \n0    (0, 0)   0  0\n     (0, 4)   0  4\n     (0, 5)   0  5\n     (0, 6)   0  6\n     (0, 7)   0  7",
      "text/html": "<div>\n<style scoped>\n    .dataframe tbody tr th:only-of-type {\n        vertical-align: middle;\n    }\n\n    .dataframe tbody tr th {\n        vertical-align: top;\n    }\n\n    .dataframe thead th {\n        text-align: right;\n    }\n</style>\n<table border=\"1\" class=\"dataframe\">\n  <thead>\n    <tr style=\"text-align: right;\">\n      <th></th>\n      <th></th>\n      <th>x</th>\n      <th>y</th>\n    </tr>\n    <tr>\n      <th>Step</th>\n      <th>AgentID</th>\n      <th></th>\n      <th></th>\n    </tr>\n  </thead>\n  <tbody>\n    <tr>\n      <th rowspan=\"5\" valign=\"top\">0</th>\n      <th>(0, 0)</th>\n      <td>0</td>\n      <td>0</td>\n    </tr>\n    <tr>\n      <th>(0, 4)</th>\n      <td>0</td>\n      <td>4</td>\n    </tr>\n    <tr>\n      <th>(0, 5)</th>\n      <td>0</td>\n      <td>5</td>\n    </tr>\n    <tr>\n      <th>(0, 6)</th>\n      <td>0</td>\n      <td>6</td>\n    </tr>\n    <tr>\n      <th>(0, 7)</th>\n      <td>0</td>\n      <td>7</td>\n    </tr>\n  </tbody>\n</table>\n</div>"
     },
     "execution_count": 34,
     "metadata": {},
     "output_type": "execute_result"
    }
   ],
   "source": [
    "x_positions.head()"
   ]
  },
  {
   "cell_type": "markdown",
   "metadata": {},
   "source": [
    "# Effect of Homophily on segregation\n",
    "\n",
    "Now, we can do a parameter sweep to see how segregation changes with homophily.\n",
    "\n",
    "First, we create a function which takes a model instance and returns what fraction of agents are segregated -- that is, have no neighbors of the opposite type."
   ]
  },
  {
   "cell_type": "code",
   "execution_count": 9,
   "metadata": {
    "collapsed": true,
    "ExecuteTime": {
     "end_time": "2023-07-20T15:02:25.815716100Z",
     "start_time": "2023-07-20T15:02:25.800559800Z"
    }
   },
   "outputs": [],
   "source": [
    "from mesa.batchrunner import BatchRunner"
   ]
  },
  {
   "cell_type": "code",
   "execution_count": 10,
   "metadata": {
    "collapsed": true,
    "ExecuteTime": {
     "end_time": "2023-07-20T15:02:35.153003700Z",
     "start_time": "2023-07-20T15:02:35.121755Z"
    }
   },
   "outputs": [],
   "source": [
    "def get_segregation(model):\n",
    "    '''\n",
    "    Find the % of agents that only have neighbors of their same type.\n",
    "    '''\n",
    "    segregated_agents = 0\n",
    "    for agent in model.schedule.agents:\n",
    "        segregated = True\n",
    "        for neighbor in model.grid.neighbor_iter(agent.pos):\n",
    "            if neighbor.type != agent.type:\n",
    "                segregated = False\n",
    "                break\n",
    "        if segregated:\n",
    "            segregated_agents += 1\n",
    "    return segregated_agents / model.schedule.get_agent_count()"
   ]
  },
  {
   "cell_type": "markdown",
   "metadata": {},
   "source": [
    "Now, we set up the batch run, with a dictionary of fixed and changing parameters. Let's hold everything fixed except for Homophily."
   ]
  },
  {
   "cell_type": "code",
   "execution_count": 11,
   "metadata": {
    "collapsed": true,
    "ExecuteTime": {
     "end_time": "2023-07-20T15:02:40.738729Z",
     "start_time": "2023-07-20T15:02:40.727404700Z"
    }
   },
   "outputs": [],
   "source": [
    "parameters = {\"height\": 10, \"width\": 10, \"density\": 0.8, \"minority_pc\": 0.2, \n",
    "              \"homophily\": range(1,9)}"
   ]
  },
  {
   "cell_type": "code",
   "execution_count": 12,
   "metadata": {
    "collapsed": false,
    "ExecuteTime": {
     "end_time": "2023-07-20T15:02:48.652060Z",
     "start_time": "2023-07-20T15:02:48.635888500Z"
    }
   },
   "outputs": [],
   "source": [
    "model_reporters = {\"Segregated_Agents\": get_segregation}"
   ]
  },
  {
   "cell_type": "code",
   "execution_count": 13,
   "metadata": {
    "collapsed": true,
    "ExecuteTime": {
     "end_time": "2023-07-20T15:03:00.228758Z",
     "start_time": "2023-07-20T15:03:00.213105900Z"
    }
   },
   "outputs": [],
   "source": [
    "param_sweep = BatchRunner(Schelling, parameters, iterations=10,\n",
    "                          max_steps=200, model_reporters=model_reporters)"
   ]
  },
  {
   "cell_type": "code",
   "execution_count": 14,
   "metadata": {
    "collapsed": false,
    "ExecuteTime": {
     "end_time": "2023-07-20T15:03:24.262584200Z",
     "start_time": "2023-07-20T15:03:05.212284200Z"
    }
   },
   "outputs": [
    {
     "name": "stdout",
     "output_type": "stream",
     "text": [
      "everyone is happy\n",
      "everyone is happy\n",
      "everyone is happy\n",
      "everyone is happy\n",
      "everyone is happy\n",
      "everyone is happy\n",
      "everyone is happy\n",
      "everyone is happy\n",
      "everyone is happy\n",
      "everyone is happy\n",
      "everyone is happy\n",
      "everyone is happy\n",
      "everyone is happy\n",
      "everyone is happy\n",
      "everyone is happy\n",
      "everyone is happy\n",
      "everyone is happy\n",
      "everyone is happy\n",
      "everyone is happy\n",
      "everyone is happy\n",
      "everyone is happy\n",
      "everyone is happy\n",
      "everyone is happy\n",
      "everyone is happy\n",
      "everyone is happy\n"
     ]
    }
   ],
   "source": [
    "param_sweep.run_all()"
   ]
  },
  {
   "cell_type": "code",
   "execution_count": 15,
   "metadata": {
    "collapsed": false,
    "ExecuteTime": {
     "end_time": "2023-07-20T15:03:24.282245500Z",
     "start_time": "2023-07-20T15:03:24.268432400Z"
    }
   },
   "outputs": [],
   "source": [
    "df = param_sweep.get_model_vars_dataframe()"
   ]
  },
  {
   "cell_type": "code",
   "execution_count": 16,
   "metadata": {
    "collapsed": false,
    "ExecuteTime": {
     "end_time": "2023-07-20T15:03:31.007644900Z",
     "start_time": "2023-07-20T15:03:30.787827100Z"
    }
   },
   "outputs": [
    {
     "data": {
      "text/plain": "<Figure size 640x480 with 1 Axes>",
      "image/png": "[encoded data removed]"
     },
     "metadata": {},
     "output_type": "display_data"
    }
   ],
   "source": [
    "plt.scatter(df.homophily, df.Segregated_Agents)\n",
    "plt.grid(True)"
   ]
  },
  {
   "cell_type": "code",
   "execution_count": null,
   "metadata": {
    "collapsed": true
   },
   "outputs": [],
   "source": []
  }
 ],
 "metadata": {
  "kernelspec": {
   "display_name": "Python 3",
   "language": "python",
   "name": "python3"
  },
  "language_info": {
   "codemirror_mode": {
    "name": "ipython",
    "version": 3
   },
   "file_extension": ".py",
   "mimetype": "text/x-python",
   "name": "python",
   "nbconvert_exporter": "python",
   "pygments_lexer": "ipython3",
   "version": "3.5.1"
  }
 },
 "nbformat": 4,
 "nbformat_minor": 0
}
