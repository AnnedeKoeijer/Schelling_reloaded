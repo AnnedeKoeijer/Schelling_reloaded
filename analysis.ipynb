{
 "cells": [
  {
   "cell_type": "markdown",
   "metadata": {},
   "source": [
    "# Schelling Segregation Model\n",
    "\n",
    "## Implementation\n",
    "\n",
    " Below, we will import the model class, instantiate it, run it, and plot the time series of the number of happy agents."
   ]
  },
  {
   "cell_type": "code",
   "execution_count": 1,
   "metadata": {
    "collapsed": false,
    "ExecuteTime": {
     "end_time": "2023-09-14T06:42:55.621791400Z",
     "start_time": "2023-09-14T06:42:53.085841300Z"
    }
   },
   "outputs": [],
   "source": [
    "import matplotlib.pyplot as plt\n",
    "import mesa\n",
    "import pandas as pd\n",
    "%matplotlib inline\n",
    "\n",
    "from model2 import Schelling"
   ]
  },
  {
   "cell_type": "markdown",
   "metadata": {},
   "source": [
    "Now we instantiate a model instance: a 10x10 grid, with an 80% chance of an agent being placed in each cell, approximately 20% of agents set as minorities, and agents wanting at least 30% similar neighbors."
   ]
  },
  {
   "cell_type": "code",
   "execution_count": 2,
   "metadata": {
    "collapsed": false,
    "ExecuteTime": {
     "end_time": "2023-09-14T06:42:55.690035Z",
     "start_time": "2023-09-14T06:42:55.621791400Z"
    }
   },
   "outputs": [
    {
     "name": "stdout",
     "output_type": "stream",
     "text": [
      "This is model 2\n"
     ]
    },
    {
     "name": "stderr",
     "output_type": "stream",
     "text": [
      "C:\\Users\\anned\\OneDrive\\Documenten\\anne\\CUSP\\Python models\\SchellingSegregation-main\\venv\\lib\\site-packages\\mesa\\space.py:213: UserWarning: `neighbor_iter` is deprecated in favor of `iter_neighbors` and will be removed in the subsequent version.\n",
      "  warn(\n"
     ]
    }
   ],
   "source": [
    "model = Schelling(30, 30, 0.8, 0.3, 0.3)"
   ]
  },
  {
   "cell_type": "markdown",
   "metadata": {},
   "source": [
    "We want to run the model until all the agents are happy with where they are. However, there's no guarentee that a given model instantiation will *ever* settle down. So let's run it for either 200 steps or until it stops on its own, whichever comes first:"
   ]
  },
  {
   "cell_type": "code",
   "execution_count": 3,
   "metadata": {
    "collapsed": false,
    "ExecuteTime": {
     "end_time": "2023-09-14T06:42:55.823189800Z",
     "start_time": "2023-09-14T06:42:55.678206700Z"
    }
   },
   "outputs": [
    {
     "name": "stdout",
     "output_type": "stream",
     "text": [
      "True 6\n",
      "6\n"
     ]
    }
   ],
   "source": [
    "while model.running and model.schedule.steps < 200:\n",
    "    model.step()\n",
    "\n",
    "print(model.schedule.steps) # Show how many steps have actually run"
   ]
  },
  {
   "cell_type": "code",
   "execution_count": 4,
   "outputs": [
    {
     "name": "stdout",
     "output_type": "stream",
     "text": [
      "718\n"
     ]
    }
   ],
   "source": [
    "print(model.schedule.get_agent_count())"
   ],
   "metadata": {
    "collapsed": false,
    "ExecuteTime": {
     "end_time": "2023-09-14T06:42:55.823189800Z",
     "start_time": "2023-09-14T06:42:55.800724800Z"
    }
   }
  },
  {
   "cell_type": "code",
   "execution_count": 5,
   "outputs": [
    {
     "data": {
      "text/plain": "   happy  total_satisfaction_index  blue_satisfaction_index  \\\n0      0                  0.000000                 0.000000   \n1    592                  0.824513                 0.574468   \n2    685                  0.954039                 0.885106   \n3    707                  0.984680                 0.978723   \n4    715                  0.995822                 0.991489   \n5    717                  0.998607                 0.995745   \n6    718                  1.000000                 1.000000   \n\n   red_satisfaction_index  segregated_Agents  happiness reached  time  \n0                0.000000           0.052925              False     0  \n1                0.946170           0.225627              False     1  \n2                0.987578           0.330084              False     2  \n3                0.987578           0.360724              False     3  \n4                0.997930           0.370474              False     4  \n5                1.000000           0.371866              False     5  \n6                1.000000           0.371866               True     6  ",
      "text/html": "<div>\n<style scoped>\n    .dataframe tbody tr th:only-of-type {\n        vertical-align: middle;\n    }\n\n    .dataframe tbody tr th {\n        vertical-align: top;\n    }\n\n    .dataframe thead th {\n        text-align: right;\n    }\n</style>\n<table border=\"1\" class=\"dataframe\">\n  <thead>\n    <tr style=\"text-align: right;\">\n      <th></th>\n      <th>happy</th>\n      <th>total_satisfaction_index</th>\n      <th>blue_satisfaction_index</th>\n      <th>red_satisfaction_index</th>\n      <th>segregated_Agents</th>\n      <th>happiness reached</th>\n      <th>time</th>\n    </tr>\n  </thead>\n  <tbody>\n    <tr>\n      <th>0</th>\n      <td>0</td>\n      <td>0.000000</td>\n      <td>0.000000</td>\n      <td>0.000000</td>\n      <td>0.052925</td>\n      <td>False</td>\n      <td>0</td>\n    </tr>\n    <tr>\n      <th>1</th>\n      <td>592</td>\n      <td>0.824513</td>\n      <td>0.574468</td>\n      <td>0.946170</td>\n      <td>0.225627</td>\n      <td>False</td>\n      <td>1</td>\n    </tr>\n    <tr>\n      <th>2</th>\n      <td>685</td>\n      <td>0.954039</td>\n      <td>0.885106</td>\n      <td>0.987578</td>\n      <td>0.330084</td>\n      <td>False</td>\n      <td>2</td>\n    </tr>\n    <tr>\n      <th>3</th>\n      <td>707</td>\n      <td>0.984680</td>\n      <td>0.978723</td>\n      <td>0.987578</td>\n      <td>0.360724</td>\n      <td>False</td>\n      <td>3</td>\n    </tr>\n    <tr>\n      <th>4</th>\n      <td>715</td>\n      <td>0.995822</td>\n      <td>0.991489</td>\n      <td>0.997930</td>\n      <td>0.370474</td>\n      <td>False</td>\n      <td>4</td>\n    </tr>\n    <tr>\n      <th>5</th>\n      <td>717</td>\n      <td>0.998607</td>\n      <td>0.995745</td>\n      <td>1.000000</td>\n      <td>0.371866</td>\n      <td>False</td>\n      <td>5</td>\n    </tr>\n    <tr>\n      <th>6</th>\n      <td>718</td>\n      <td>1.000000</td>\n      <td>1.000000</td>\n      <td>1.000000</td>\n      <td>0.371866</td>\n      <td>True</td>\n      <td>6</td>\n    </tr>\n  </tbody>\n</table>\n</div>"
     },
     "execution_count": 5,
     "metadata": {},
     "output_type": "execute_result"
    }
   ],
   "source": [
    "model_data = model.datacollector.get_model_vars_dataframe()\n",
    "model_data"
   ],
   "metadata": {
    "collapsed": false,
    "ExecuteTime": {
     "end_time": "2023-09-14T06:42:55.965888900Z",
     "start_time": "2023-09-14T06:42:55.832205Z"
    }
   }
  },
  {
   "cell_type": "markdown",
   "metadata": {},
   "source": [
    "The model has a DataCollector object, which checks and stores how many agents are happy at the end of each step. It can also generate a pandas DataFrame of the data it has collected:"
   ]
  },
  {
   "cell_type": "code",
   "execution_count": 6,
   "metadata": {
    "collapsed": false,
    "ExecuteTime": {
     "end_time": "2023-09-14T06:42:55.965888900Z",
     "start_time": "2023-09-14T06:42:55.868927200Z"
    }
   },
   "outputs": [],
   "source": [
    "model_out = model.datacollector.get_model_vars_dataframe()"
   ]
  },
  {
   "cell_type": "code",
   "execution_count": 7,
   "metadata": {
    "collapsed": false,
    "ExecuteTime": {
     "end_time": "2023-09-14T06:42:56.006682100Z",
     "start_time": "2023-09-14T06:42:55.886528Z"
    }
   },
   "outputs": [
    {
     "data": {
      "text/plain": "   happy  total_satisfaction_index  blue_satisfaction_index  \\\n6    718                  1.000000                 1.000000   \n5    717                  0.998607                 0.995745   \n4    715                  0.995822                 0.991489   \n3    707                  0.984680                 0.978723   \n2    685                  0.954039                 0.885106   \n1    592                  0.824513                 0.574468   \n0      0                  0.000000                 0.000000   \n\n   red_satisfaction_index  segregated_Agents  happiness reached  time  \n6                1.000000           0.371866               True     6  \n5                1.000000           0.371866              False     5  \n4                0.997930           0.370474              False     4  \n3                0.987578           0.360724              False     3  \n2                0.987578           0.330084              False     2  \n1                0.946170           0.225627              False     1  \n0                0.000000           0.052925              False     0  ",
      "text/html": "<div>\n<style scoped>\n    .dataframe tbody tr th:only-of-type {\n        vertical-align: middle;\n    }\n\n    .dataframe tbody tr th {\n        vertical-align: top;\n    }\n\n    .dataframe thead th {\n        text-align: right;\n    }\n</style>\n<table border=\"1\" class=\"dataframe\">\n  <thead>\n    <tr style=\"text-align: right;\">\n      <th></th>\n      <th>happy</th>\n      <th>total_satisfaction_index</th>\n      <th>blue_satisfaction_index</th>\n      <th>red_satisfaction_index</th>\n      <th>segregated_Agents</th>\n      <th>happiness reached</th>\n      <th>time</th>\n    </tr>\n  </thead>\n  <tbody>\n    <tr>\n      <th>6</th>\n      <td>718</td>\n      <td>1.000000</td>\n      <td>1.000000</td>\n      <td>1.000000</td>\n      <td>0.371866</td>\n      <td>True</td>\n      <td>6</td>\n    </tr>\n    <tr>\n      <th>5</th>\n      <td>717</td>\n      <td>0.998607</td>\n      <td>0.995745</td>\n      <td>1.000000</td>\n      <td>0.371866</td>\n      <td>False</td>\n      <td>5</td>\n    </tr>\n    <tr>\n      <th>4</th>\n      <td>715</td>\n      <td>0.995822</td>\n      <td>0.991489</td>\n      <td>0.997930</td>\n      <td>0.370474</td>\n      <td>False</td>\n      <td>4</td>\n    </tr>\n    <tr>\n      <th>3</th>\n      <td>707</td>\n      <td>0.984680</td>\n      <td>0.978723</td>\n      <td>0.987578</td>\n      <td>0.360724</td>\n      <td>False</td>\n      <td>3</td>\n    </tr>\n    <tr>\n      <th>2</th>\n      <td>685</td>\n      <td>0.954039</td>\n      <td>0.885106</td>\n      <td>0.987578</td>\n      <td>0.330084</td>\n      <td>False</td>\n      <td>2</td>\n    </tr>\n    <tr>\n      <th>1</th>\n      <td>592</td>\n      <td>0.824513</td>\n      <td>0.574468</td>\n      <td>0.946170</td>\n      <td>0.225627</td>\n      <td>False</td>\n      <td>1</td>\n    </tr>\n    <tr>\n      <th>0</th>\n      <td>0</td>\n      <td>0.000000</td>\n      <td>0.000000</td>\n      <td>0.000000</td>\n      <td>0.052925</td>\n      <td>False</td>\n      <td>0</td>\n    </tr>\n  </tbody>\n</table>\n</div>"
     },
     "execution_count": 7,
     "metadata": {},
     "output_type": "execute_result"
    }
   ],
   "source": [
    "model_out.sort_values('happy', ascending=False)"
   ]
  },
  {
   "cell_type": "markdown",
   "metadata": {},
   "source": [
    "Finally, we can plot the 'happy' series:"
   ]
  },
  {
   "cell_type": "code",
   "execution_count": 8,
   "metadata": {
    "collapsed": false,
    "ExecuteTime": {
     "end_time": "2023-09-14T06:42:56.581167600Z",
     "start_time": "2023-09-14T06:42:55.914801800Z"
    }
   },
   "outputs": [
    {
     "data": {
      "text/plain": "<Axes: >"
     },
     "execution_count": 8,
     "metadata": {},
     "output_type": "execute_result"
    },
    {
     "data": {
      "text/plain": "<Figure size 640x480 with 1 Axes>",
      "image/png": "[encoded data removed]"
     },
     "metadata": {},
     "output_type": "display_data"
    }
   ],
   "source": [
    "model_out.happy.plot()"
   ]
  },
  {
   "cell_type": "markdown",
   "metadata": {},
   "source": [
    "# Batchrunner: Effect of Homophily on segregation\n",
    "\n",
    "Now, we can do a parameter sweep to see how segregation changes with homophily."
   ]
  },
  {
   "cell_type": "markdown",
   "metadata": {},
   "source": [
    "Now, we set up the batch run, with a dictionary of fixed and changing parameters. Let's hold everything fixed except for Homophily."
   ]
  },
  {
   "cell_type": "code",
   "execution_count": 9,
   "metadata": {
    "collapsed": true,
    "ExecuteTime": {
     "end_time": "2023-09-14T06:42:56.585485500Z",
     "start_time": "2023-09-14T06:42:56.275165600Z"
    }
   },
   "outputs": [],
   "source": [
    "import numpy as np\n",
    "parameters = {\"height\": 10, \"width\": 10, \"density\": 0.8, \"minority_pc\": 0.2,\n",
    "              \"homophily\": np.arange(0.0, 1.0, 0.1)}"
   ]
  },
  {
   "cell_type": "code",
   "execution_count": 10,
   "metadata": {
    "collapsed": true,
    "ExecuteTime": {
     "end_time": "2023-09-14T06:42:57.755850500Z",
     "start_time": "2023-09-14T06:42:56.275165600Z"
    }
   },
   "outputs": [
    {
     "name": "stderr",
     "output_type": "stream",
     "text": [
      "  0%|          | 0/100 [00:00<?, ?it/s]C:\\Users\\anned\\OneDrive\\Documenten\\anne\\CUSP\\Python models\\SchellingSegregation-main\\venv\\lib\\site-packages\\mesa\\space.py:213: UserWarning: `neighbor_iter` is deprecated in favor of `iter_neighbors` and will be removed in the subsequent version.\n",
      "  warn(\n"
     ]
    },
    {
     "name": "stdout",
     "output_type": "stream",
     "text": [
      "This is model 2\n",
      "True 1\n",
      "This is model 2\n",
      "True 3\n",
      "This is model 2\n",
      "True 3\n",
      "This is model 2\n",
      "False 4\n",
      "This is model 2\n",
      "False 4\n",
      "This is model 2\n",
      "False 4\n",
      "This is model 2\n",
      "False 4\n",
      "This is model 2\n"
     ]
    },
    {
     "name": "stderr",
     "output_type": "stream",
     "text": [
      " 21%|██        | 21/100 [00:00<00:01, 53.79it/s]"
     ]
    },
    {
     "name": "stdout",
     "output_type": "stream",
     "text": [
      "This is model 2\n",
      "False 2\n",
      "This is model 2\n",
      "False 2\n",
      "This is model 2\n",
      "True 1\n",
      "This is model 2\n",
      "True 2\n",
      "This is model 2\n",
      "True 3\n",
      "This is model 2\n",
      "True 3\n",
      "This is model 2\n",
      "False 3\n",
      "This is model 2\n",
      "False 6\n",
      "This is model 2\n",
      "False 2\n",
      "This is model 2\n",
      "False 6\n",
      "This is model 2\n",
      "False 3\n",
      "This is model 2\n",
      "False 2\n",
      "This is model 2\n",
      "True 1\n",
      "This is model 2\n",
      "True 2\n",
      "This is model 2\n",
      "True 5\n",
      "This is model 2\n",
      "False 3\n",
      "This is model 2\n",
      "False 4\n",
      "This is model 2\n",
      "True 6\n",
      "This is model 2\n",
      "True 8\n",
      "This is model 2\n",
      "False 7\n",
      "This is model 2\n"
     ]
    },
    {
     "name": "stderr",
     "output_type": "stream",
     "text": [
      " 41%|████      | 41/100 [00:00<00:00, 71.23it/s]"
     ]
    },
    {
     "name": "stdout",
     "output_type": "stream",
     "text": [
      "False 7\n",
      "This is model 2\n",
      "False 2\n",
      "This is model 2\n",
      "True 1\n",
      "This is model 2\n",
      "True 2\n",
      "This is model 2\n",
      "False 3\n",
      "This is model 2\n",
      "True 3\n",
      "This is model 2\n",
      "False 3\n",
      "This is model 2\n",
      "False 2\n",
      "This is model 2\n",
      "False 8\n",
      "This is model 2\n",
      "False 6\n",
      "This is model 2\n",
      "False 3\n",
      "This is model 2\n",
      "False 2\n",
      "This is model 2\n",
      "True 1\n",
      "This is model 2\n",
      "True 3\n",
      "This is model 2\n",
      "True 4\n",
      "This is model 2\n",
      "False 3\n",
      "This is model 2\n",
      "False 1\n",
      "This is model 2\n",
      "False 8\n",
      "This is model 2\n",
      "False 8\n",
      "This is model 2\n",
      "False 6\n",
      "This is model 2\n",
      "False 5\n",
      "This is model 2\n",
      "False 2\n"
     ]
    },
    {
     "name": "stderr",
     "output_type": "stream",
     "text": [
      " 50%|█████     | 50/100 [00:00<00:00, 73.14it/s]"
     ]
    },
    {
     "name": "stdout",
     "output_type": "stream",
     "text": [
      "This is model 2\n",
      "True 1\n",
      "This is model 2\n",
      "True 2\n",
      "This is model 2\n",
      "True 2\n",
      "This is model 2\n",
      "True 3\n",
      "This is model 2\n",
      "False 3\n",
      "This is model 2\n",
      "False 5\n",
      "This is model 2\n",
      "False 7\n",
      "This is model 2\n"
     ]
    },
    {
     "name": "stderr",
     "output_type": "stream",
     "text": [
      " 71%|███████   | 71/100 [00:01<00:00, 65.43it/s]"
     ]
    },
    {
     "name": "stdout",
     "output_type": "stream",
     "text": [
      "This is model 2\n",
      "False 2\n",
      "This is model 2\n",
      "False 2\n",
      "This is model 2\n",
      "True 1\n",
      "This is model 2\n",
      "True 4\n",
      "This is model 2\n",
      "False 4\n",
      "This is model 2\n",
      "False 3\n",
      "This is model 2\n",
      "False 2\n",
      "This is model 2\n",
      "False 4\n",
      "This is model 2\n",
      "False 9\n",
      "This is model 2\n",
      "False 13\n",
      "This is model 2\n",
      "False 2\n",
      "This is model 2\n",
      "False 2\n",
      "This is model 2\n",
      "True 1\n",
      "This is model 2\n",
      "True 4\n",
      "This is model 2\n",
      "True 3\n",
      "This is model 2\n",
      "True 5\n",
      "This is model 2\n",
      "False 6\n",
      "This is model 2\n",
      "True 8\n",
      "This is model 2\n",
      "False 8\n",
      "This is model 2\n",
      "False 6\n",
      "This is model 2\n",
      "False 3\n",
      "This is model 2\n",
      "False 2\n",
      "This is model 2\n",
      "True 1\n",
      "This is model 2\n",
      "True 3\n"
     ]
    },
    {
     "name": "stderr",
     "output_type": "stream",
     "text": [
      "100%|██████████| 100/100 [00:01<00:00, 69.25it/s]"
     ]
    },
    {
     "name": "stdout",
     "output_type": "stream",
     "text": [
      "This is model 2\n",
      "True 3\n",
      "This is model 2\n",
      "False 3\n",
      "This is model 2\n",
      "False 4\n",
      "This is model 2\n",
      "True 3\n",
      "This is model 2\n",
      "False 5\n",
      "This is model 2\n",
      "False 5\n",
      "This is model 2\n",
      "True 11\n",
      "This is model 2\n",
      "False 2\n",
      "This is model 2\n",
      "True 1\n",
      "This is model 2\n",
      "True 2\n",
      "This is model 2\n",
      "True 3\n",
      "This is model 2\n",
      "False 3\n",
      "This is model 2\n",
      "False 2\n",
      "This is model 2\n",
      "False 5\n",
      "This is model 2\n",
      "False 5\n",
      "This is model 2\n",
      "False 6\n",
      "This is model 2\n",
      "False 2\n",
      "This is model 2\n",
      "False 2\n"
     ]
    },
    {
     "name": "stderr",
     "output_type": "stream",
     "text": [
      "\n"
     ]
    }
   ],
   "source": [
    "from mesa import batch_run\n",
    "param_sweep = batch_run(Schelling,parameters, iterations=10, max_steps=100)"
   ]
  },
  {
   "cell_type": "code",
   "execution_count": 11,
   "outputs": [],
   "source": [
    "import pandas as pd\n",
    "df = pd.DataFrame.from_dict(param_sweep)"
   ],
   "metadata": {
    "collapsed": false,
    "ExecuteTime": {
     "end_time": "2023-09-14T06:42:57.766624100Z",
     "start_time": "2023-09-14T06:42:57.750845400Z"
    }
   }
  },
  {
   "cell_type": "code",
   "execution_count": 12,
   "outputs": [
    {
     "data": {
      "text/plain": "    RunId  iteration  Step  height  width  density  minority_pc  homophily  \\\n0       0          0     0      10     10      0.8          0.2        0.0   \n1       1          0     2      10     10      0.8          0.2        0.1   \n2       2          0     2      10     10      0.8          0.2        0.2   \n3       3          0     3      10     10      0.8          0.2        0.3   \n4       4          0     3      10     10      0.8          0.2        0.4   \n..    ...        ...   ...     ...    ...      ...          ...        ...   \n95     95          9     4      10     10      0.8          0.2        0.5   \n96     96          9     4      10     10      0.8          0.2        0.6   \n97     97          9     5      10     10      0.8          0.2        0.7   \n98     98          9     1      10     10      0.8          0.2        0.8   \n99     99          9     1      10     10      0.8          0.2        0.9   \n\n    happy  total_satisfaction_index  blue_satisfaction_index  \\\n0       0                  0.000000                 0.000000   \n1      81                  0.987805                 0.916667   \n2      76                  0.974359                 0.882353   \n3      75                  0.974026                 0.882353   \n4      73                  0.901235                 0.529412   \n..    ...                       ...                      ...   \n95     73                  0.948052                 0.714286   \n96     68                  0.883117                 0.529412   \n97     71                  0.865854                 0.473684   \n98     42                  0.525000                 0.000000   \n99     29                  0.345238                 0.000000   \n\n    red_satisfaction_index  segregated_Agents  happiness reached  time  \n0                 0.000000           0.024390              False     0  \n1                 1.000000           0.280488              False     2  \n2                 1.000000           0.282051              False     2  \n3                 1.000000           0.376623              False     3  \n4                 1.000000           0.209877              False     3  \n..                     ...                ...                ...   ...  \n95                1.000000           0.467532              False     4  \n96                0.983333           0.441558              False     4  \n97                0.984127           0.475610              False     5  \n98                0.646154           0.325000              False     1  \n99                0.402778           0.428571              False     1  \n\n[100 rows x 15 columns]",
      "text/html": "<div>\n<style scoped>\n    .dataframe tbody tr th:only-of-type {\n        vertical-align: middle;\n    }\n\n    .dataframe tbody tr th {\n        vertical-align: top;\n    }\n\n    .dataframe thead th {\n        text-align: right;\n    }\n</style>\n<table border=\"1\" class=\"dataframe\">\n  <thead>\n    <tr style=\"text-align: right;\">\n      <th></th>\n      <th>RunId</th>\n      <th>iteration</th>\n      <th>Step</th>\n      <th>height</th>\n      <th>width</th>\n      <th>density</th>\n      <th>minority_pc</th>\n      <th>homophily</th>\n      <th>happy</th>\n      <th>total_satisfaction_index</th>\n      <th>blue_satisfaction_index</th>\n      <th>red_satisfaction_index</th>\n      <th>segregated_Agents</th>\n      <th>happiness reached</th>\n      <th>time</th>\n    </tr>\n  </thead>\n  <tbody>\n    <tr>\n      <th>0</th>\n      <td>0</td>\n      <td>0</td>\n      <td>0</td>\n      <td>10</td>\n      <td>10</td>\n      <td>0.8</td>\n      <td>0.2</td>\n      <td>0.0</td>\n      <td>0</td>\n      <td>0.000000</td>\n      <td>0.000000</td>\n      <td>0.000000</td>\n      <td>0.024390</td>\n      <td>False</td>\n      <td>0</td>\n    </tr>\n    <tr>\n      <th>1</th>\n      <td>1</td>\n      <td>0</td>\n      <td>2</td>\n      <td>10</td>\n      <td>10</td>\n      <td>0.8</td>\n      <td>0.2</td>\n      <td>0.1</td>\n      <td>81</td>\n      <td>0.987805</td>\n      <td>0.916667</td>\n      <td>1.000000</td>\n      <td>0.280488</td>\n      <td>False</td>\n      <td>2</td>\n    </tr>\n    <tr>\n      <th>2</th>\n      <td>2</td>\n      <td>0</td>\n      <td>2</td>\n      <td>10</td>\n      <td>10</td>\n      <td>0.8</td>\n      <td>0.2</td>\n      <td>0.2</td>\n      <td>76</td>\n      <td>0.974359</td>\n      <td>0.882353</td>\n      <td>1.000000</td>\n      <td>0.282051</td>\n      <td>False</td>\n      <td>2</td>\n    </tr>\n    <tr>\n      <th>3</th>\n      <td>3</td>\n      <td>0</td>\n      <td>3</td>\n      <td>10</td>\n      <td>10</td>\n      <td>0.8</td>\n      <td>0.2</td>\n      <td>0.3</td>\n      <td>75</td>\n      <td>0.974026</td>\n      <td>0.882353</td>\n      <td>1.000000</td>\n      <td>0.376623</td>\n      <td>False</td>\n      <td>3</td>\n    </tr>\n    <tr>\n      <th>4</th>\n      <td>4</td>\n      <td>0</td>\n      <td>3</td>\n      <td>10</td>\n      <td>10</td>\n      <td>0.8</td>\n      <td>0.2</td>\n      <td>0.4</td>\n      <td>73</td>\n      <td>0.901235</td>\n      <td>0.529412</td>\n      <td>1.000000</td>\n      <td>0.209877</td>\n      <td>False</td>\n      <td>3</td>\n    </tr>\n    <tr>\n      <th>...</th>\n      <td>...</td>\n      <td>...</td>\n      <td>...</td>\n      <td>...</td>\n      <td>...</td>\n      <td>...</td>\n      <td>...</td>\n      <td>...</td>\n      <td>...</td>\n      <td>...</td>\n      <td>...</td>\n      <td>...</td>\n      <td>...</td>\n      <td>...</td>\n      <td>...</td>\n    </tr>\n    <tr>\n      <th>95</th>\n      <td>95</td>\n      <td>9</td>\n      <td>4</td>\n      <td>10</td>\n      <td>10</td>\n      <td>0.8</td>\n      <td>0.2</td>\n      <td>0.5</td>\n      <td>73</td>\n      <td>0.948052</td>\n      <td>0.714286</td>\n      <td>1.000000</td>\n      <td>0.467532</td>\n      <td>False</td>\n      <td>4</td>\n    </tr>\n    <tr>\n      <th>96</th>\n      <td>96</td>\n      <td>9</td>\n      <td>4</td>\n      <td>10</td>\n      <td>10</td>\n      <td>0.8</td>\n      <td>0.2</td>\n      <td>0.6</td>\n      <td>68</td>\n      <td>0.883117</td>\n      <td>0.529412</td>\n      <td>0.983333</td>\n      <td>0.441558</td>\n      <td>False</td>\n      <td>4</td>\n    </tr>\n    <tr>\n      <th>97</th>\n      <td>97</td>\n      <td>9</td>\n      <td>5</td>\n      <td>10</td>\n      <td>10</td>\n      <td>0.8</td>\n      <td>0.2</td>\n      <td>0.7</td>\n      <td>71</td>\n      <td>0.865854</td>\n      <td>0.473684</td>\n      <td>0.984127</td>\n      <td>0.475610</td>\n      <td>False</td>\n      <td>5</td>\n    </tr>\n    <tr>\n      <th>98</th>\n      <td>98</td>\n      <td>9</td>\n      <td>1</td>\n      <td>10</td>\n      <td>10</td>\n      <td>0.8</td>\n      <td>0.2</td>\n      <td>0.8</td>\n      <td>42</td>\n      <td>0.525000</td>\n      <td>0.000000</td>\n      <td>0.646154</td>\n      <td>0.325000</td>\n      <td>False</td>\n      <td>1</td>\n    </tr>\n    <tr>\n      <th>99</th>\n      <td>99</td>\n      <td>9</td>\n      <td>1</td>\n      <td>10</td>\n      <td>10</td>\n      <td>0.8</td>\n      <td>0.2</td>\n      <td>0.9</td>\n      <td>29</td>\n      <td>0.345238</td>\n      <td>0.000000</td>\n      <td>0.402778</td>\n      <td>0.428571</td>\n      <td>False</td>\n      <td>1</td>\n    </tr>\n  </tbody>\n</table>\n<p>100 rows × 15 columns</p>\n</div>"
     },
     "execution_count": 12,
     "metadata": {},
     "output_type": "execute_result"
    }
   ],
   "source": [
    "df"
   ],
   "metadata": {
    "collapsed": false,
    "ExecuteTime": {
     "end_time": "2023-09-14T06:42:57.863399900Z",
     "start_time": "2023-09-14T06:42:57.757363500Z"
    }
   }
  },
  {
   "cell_type": "code",
   "execution_count": 13,
   "metadata": {
    "collapsed": false,
    "ExecuteTime": {
     "end_time": "2023-09-14T06:42:58.162755Z",
     "start_time": "2023-09-14T06:42:57.800648700Z"
    }
   },
   "outputs": [
    {
     "data": {
      "text/plain": "<Figure size 640x480 with 1 Axes>",
      "image/png": "[encoded data removed]"
     },
     "metadata": {},
     "output_type": "display_data"
    }
   ],
   "source": [
    "plt.scatter(df.homophily, df.segregated_Agents)\n",
    "plt.xlabel('Homophily')\n",
    "plt.ylabel('Prc Segregation')\n",
    "plt.grid(True)"
   ]
  },
  {
   "cell_type": "code",
   "execution_count": 14,
   "metadata": {
    "collapsed": true,
    "ExecuteTime": {
     "end_time": "2023-09-14T06:42:58.484836200Z",
     "start_time": "2023-09-14T06:42:58.115100400Z"
    }
   },
   "outputs": [
    {
     "data": {
      "text/plain": "<Figure size 640x480 with 1 Axes>",
      "image/png": "[encoded data removed]"
     },
     "metadata": {},
     "output_type": "display_data"
    }
   ],
   "source": [
    "plt.scatter(df.homophily, df.Step, c = df['happiness reached'])\n",
    "plt.xlabel('Homophily')\n",
    "plt.ylabel('Timesteps')\n",
    "plt.grid(True)"
   ]
  },
  {
   "cell_type": "code",
   "execution_count": 14,
   "outputs": [],
   "source": [],
   "metadata": {
    "collapsed": false,
    "ExecuteTime": {
     "end_time": "2023-09-14T06:42:58.484836200Z",
     "start_time": "2023-09-14T06:42:58.467088200Z"
    }
   }
  }
 ],
 "metadata": {
  "kernelspec": {
   "display_name": "Python 3",
   "language": "python",
   "name": "python3"
  },
  "language_info": {
   "codemirror_mode": {
    "name": "ipython",
    "version": 3
   },
   "file_extension": ".py",
   "mimetype": "text/x-python",
   "name": "python",
   "nbconvert_exporter": "python",
   "pygments_lexer": "ipython3",
   "version": "3.5.1"
  }
 },
 "nbformat": 4,
 "nbformat_minor": 0
}
